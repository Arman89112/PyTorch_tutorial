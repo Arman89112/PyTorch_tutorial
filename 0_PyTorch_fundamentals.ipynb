{
  "nbformat": 4,
  "nbformat_minor": 0,
  "metadata": {
    "colab": {
      "provenance": [],
      "gpuType": "V28"
    },
    "kernelspec": {
      "name": "python3",
      "display_name": "Python 3"
    },
    "language_info": {
      "name": "python"
    },
    "accelerator": "TPU"
  },
  "cells": [
    {
      "cell_type": "markdown",
      "source": [
        "Preface\n",
        "\n",
        "cell no.: content\n",
        "2: How to create tensor\n",
        "3: Getting info. about tensor variable\n",
        "4: Creating random tensor\n",
        "5: torch.zeros_like\n",
        "6: torch.tensor's parameter\n",
        "7: View,Stacking,Squeeze,Unsqueeze,permute\n",
        "8: torch.from_numpy\n",
        "9: torch.manual_seed\n",
        "10: Moving tensor to gpu"
      ],
      "metadata": {
        "id": "JF5zhaMLoHNp"
      }
    },
    {
      "cell_type": "code",
      "execution_count": 1,
      "metadata": {
        "id": "5HGg8PU1jY8_"
      },
      "outputs": [],
      "source": [
        "import torch\n",
        "import numpy as np\n",
        "import matplotlib.pyplot as plt\n",
        "import pandas as pd"
      ]
    },
    {
      "cell_type": "code",
      "source": [
        "# How to create tensor\n",
        "TENSOR = torch.tensor(7) # tensor, matrix in upper case\n",
        "TENSOR"
      ],
      "metadata": {
        "colab": {
          "base_uri": "https://localhost:8080/"
        },
        "id": "L9gdSzXsjhKV",
        "outputId": "25b775d5-d814-4bc4-dfa9-116a07024820"
      },
      "execution_count": 2,
      "outputs": [
        {
          "output_type": "execute_result",
          "data": {
            "text/plain": [
              "tensor(7)"
            ]
          },
          "metadata": {},
          "execution_count": 2
        }
      ]
    },
    {
      "cell_type": "code",
      "source": [
        "# Getting info. about tensor variable\n",
        "TENSOR.ndim # see dimension\n",
        "TENSOR.item() # see item\n",
        "TENSOR.shape # see shpae"
      ],
      "metadata": {
        "colab": {
          "base_uri": "https://localhost:8080/"
        },
        "id": "osHCnpzuly7T",
        "outputId": "91151a3d-8598-4faf-94f3-a3b95982a24a"
      },
      "execution_count": 3,
      "outputs": [
        {
          "output_type": "execute_result",
          "data": {
            "text/plain": [
              "torch.Size([])"
            ]
          },
          "metadata": {},
          "execution_count": 3
        }
      ]
    },
    {
      "cell_type": "code",
      "source": [
        "# Creating random tensor\n",
        "random_tensor = torch.rand(3,4,3)\n",
        "random_tensor"
      ],
      "metadata": {
        "colab": {
          "base_uri": "https://localhost:8080/"
        },
        "collapsed": true,
        "id": "2gBT5nomnkeZ",
        "outputId": "d0f796e8-cc48-4e1d-a4f5-26511da2cf96"
      },
      "execution_count": 4,
      "outputs": [
        {
          "output_type": "execute_result",
          "data": {
            "text/plain": [
              "tensor([[[0.7668, 0.3529, 0.7377],\n",
              "         [0.4507, 0.1317, 0.1663],\n",
              "         [0.7363, 0.9104, 0.4573],\n",
              "         [0.7312, 0.6613, 0.5289]],\n",
              "\n",
              "        [[0.3842, 0.4830, 0.5679],\n",
              "         [0.7411, 0.3047, 0.4357],\n",
              "         [0.0113, 0.3062, 0.2606],\n",
              "         [0.8682, 0.3294, 0.4889]],\n",
              "\n",
              "        [[0.5340, 0.4373, 0.0345],\n",
              "         [0.4382, 0.3475, 0.9767],\n",
              "         [0.8153, 0.3521, 0.9079],\n",
              "         [0.5933, 0.1766, 0.8703]]])"
            ]
          },
          "metadata": {},
          "execution_count": 4
        }
      ]
    },
    {
      "cell_type": "code",
      "source": [
        "# tensor.zeros_like\n",
        "base = torch.empty(3,2)\n",
        "torch.zeros_like(base) # We want a zero matrix size like(this tensor)"
      ],
      "metadata": {
        "colab": {
          "base_uri": "https://localhost:8080/"
        },
        "id": "L-NeSzWt2jwA",
        "outputId": "eb412828-6f20-4e92-9522-f13112ce7dce"
      },
      "execution_count": 5,
      "outputs": [
        {
          "output_type": "execute_result",
          "data": {
            "text/plain": [
              "tensor([[0., 0.],\n",
              "        [0., 0.],\n",
              "        [0., 0.]])"
            ]
          },
          "metadata": {},
          "execution_count": 5
        }
      ]
    },
    {
      "cell_type": "code",
      "source": [
        "float32_tensor = torch.tensor([2.0,3.0,4.0],\n",
        "             dtype = None, # Even though none but the default is float32\n",
        "             device = \"cpu\",\n",
        "             requires_grad= False) # enable torch to track the gradient of thsi\n",
        "                                  #tensor when going through numerical operation\n"
      ],
      "metadata": {
        "id": "T63jQ2jx4B0H"
      },
      "execution_count": 6,
      "outputs": []
    },
    {
      "cell_type": "code",
      "source": [
        "# A view of a tensor shares the same memory changing one changes both\n",
        "x = torch.arange(1,10)\n",
        "z = x.view(3,3) # like reshaping\n",
        "#print(z)\n",
        "#print(x)\n",
        "# Changing either will change both\n",
        "x[0] = 999\n",
        "#print(z)\n",
        "\n",
        "# Stack\n",
        "x_stacked = torch.stack([x,x], dim = 0) # 0: vertical, 1: horizontal\n",
        "\n",
        "# Squeeze and Unsqeeze\n",
        "tensor_for_squeeze = torch.rand(2,3,1,1)\n",
        "squeeze_tensor = tensor_for_squeeze.squeeze()# Removes all dim of input\n",
        "                                             # size 1\n",
        "# print(squeeze_tensor.shape)\n",
        "one_dim_on_left = tensor_for_squeeze.unsqueeze(dim = 0) # Add 1D on left\n",
        "one_dim_on_right = tensor_for_squeeze.unsqueeze(dim = 1) # Add 1D on right\n",
        "\n",
        "# Permute returns a view of the original tensor with its dim permuted\n",
        "#                   ^^^^^^^ changing one changes other\n",
        "tensor_for_permute = torch.rand(1,2,3)\n",
        "tensor_permuted = tensor_for_permute.permute(2,0,1)# These are index of dim\n",
        "tensor_permuted.shape"
      ],
      "metadata": {
        "colab": {
          "base_uri": "https://localhost:8080/"
        },
        "id": "CqkRhZww8NKt",
        "outputId": "8fa6bb7f-58b6-4266-d83a-f9c18f41d7dd"
      },
      "execution_count": 7,
      "outputs": [
        {
          "output_type": "execute_result",
          "data": {
            "text/plain": [
              "torch.Size([3, 1, 2])"
            ]
          },
          "metadata": {},
          "execution_count": 7
        }
      ]
    },
    {
      "cell_type": "code",
      "source": [
        "# torch.from_numpy to convert numpy array into tensor\n",
        "array_to_convert = np.array([3.0,4.0,5.0])\n",
        "array_converted = torch.from_numpy(array_to_convert)\n",
        "print(array_converted.dtype) # array's default dtype is float64(careful!)\n",
        "\n",
        "# To convert back into array\n",
        "converted_back = array_converted.numpy()"
      ],
      "metadata": {
        "id": "e7FQrmlrLFKg",
        "colab": {
          "base_uri": "https://localhost:8080/"
        },
        "outputId": "00f44c2e-c3c4-4da0-8f69-f88dfaec8463"
      },
      "execution_count": 8,
      "outputs": [
        {
          "output_type": "stream",
          "name": "stdout",
          "text": [
            "torch.float64\n"
          ]
        }
      ]
    },
    {
      "cell_type": "code",
      "source": [
        "torch.manual_seed(42)\n",
        "a = torch.rand(2,3)\n",
        "\n",
        "# torch.manual_seed(42)\n",
        "b = torch.rand(2,3)\n",
        "\n",
        "print(a == b) # False\n",
        "\n",
        "# In torch we need use seed every time we create a tensor"
      ],
      "metadata": {
        "id": "d70rIYV7CnXo",
        "colab": {
          "base_uri": "https://localhost:8080/"
        },
        "outputId": "a189e929-726f-492d-f367-39374eab9190"
      },
      "execution_count": 11,
      "outputs": [
        {
          "output_type": "stream",
          "name": "stdout",
          "text": [
            "tensor([[False, False, False],\n",
            "        [False, False, False]])\n"
          ]
        }
      ]
    },
    {
      "cell_type": "code",
      "source": [
        "# We could write a gpu run tensor by device = 'cuda' but better way in colab is\n",
        "\n",
        "device = 'cuda' if torch.cuda.is_available() else 'cpu'\n",
        "\n",
        "x = torch.tensor([1,2,3]) # Default device = cpu\n",
        "x_to_gpu = x.to(device) # Assifn gpu if available in colab\n",
        "print(x_to_gpu.device)\n",
        "\n",
        "# Device error(Can't convert gpu based tensor into array)\n",
        "x_to_gpu.numpy() # Error if gpu is available\n",
        "x_to_gpu.cpu().numpy() # Convert into cpu then numpy"
      ],
      "metadata": {
        "colab": {
          "base_uri": "https://localhost:8080/"
        },
        "id": "ObJOJhj9Ag77",
        "outputId": "3b53a825-1f28-4bb1-d28c-4fcf68a63c5b"
      },
      "execution_count": 19,
      "outputs": [
        {
          "output_type": "stream",
          "name": "stdout",
          "text": [
            "cpu\n"
          ]
        },
        {
          "output_type": "execute_result",
          "data": {
            "text/plain": [
              "array([1, 2, 3])"
            ]
          },
          "metadata": {},
          "execution_count": 19
        }
      ]
    }
  ]
}