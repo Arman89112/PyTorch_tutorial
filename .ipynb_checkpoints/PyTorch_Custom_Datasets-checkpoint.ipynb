{
  "cells": [
    {
      "cell_type": "markdown",
      "metadata": {
        "id": "HjBll8YJmqL9"
      },
      "source": [
        "preface\n",
        "\n",
        "cell no.: contents\n",
        "3: Downloading data\n",
        "5: Transforming the dataset in desired format\n",
        "8: Checking lengths of dirs(walk_through_dir)\n",
        "9: Zip images folder to be easily transported\n",
        "13: How to remove the these dirs(for learning purpose)\n",
        "15: Train and Test dir paths"
      ]
    },
    {
      "cell_type": "code",
      "execution_count": 1,
      "metadata": {
        "id": "priePRjFm9Im"
      },
      "outputs": [],
      "source": [
        "import torch, torchvision, os, requests\n",
        "from torch import nn\n",
        "import matplotlib.pyplot as plt\n",
        "import torchvision.datasets as datasets\n",
        "import torchvision.transforms as transforms"
      ]
    },
    {
      "cell_type": "code",
      "execution_count": 2,
      "metadata": {
        "colab": {
          "base_uri": "https://localhost:8080/",
          "height": 36
        },
        "id": "YFRKgTBQsXZS",
        "outputId": "93c59d86-b3e5-4a5b-fb9d-35a6959d45f7"
      },
      "outputs": [
        {
          "output_type": "execute_result",
          "data": {
            "text/plain": [
              "'cpu'"
            ],
            "application/vnd.google.colaboratory.intrinsic+json": {
              "type": "string"
            }
          },
          "metadata": {},
          "execution_count": 2
        }
      ],
      "source": [
        "device = 'cuda' if torch.cuda.is_available() else 'cpu'\n",
        "device"
      ]
    },
    {
      "cell_type": "code",
      "execution_count": null,
      "metadata": {
        "id": "y87YnLQiClnn",
        "colab": {
          "base_uri": "https://localhost:8080/"
        },
        "outputId": "eb42cae8-1a9a-413a-ba41-03b27b0f40a4"
      },
      "outputs": [
        {
          "output_type": "stream",
          "name": "stdout",
          "text": [
            "Downloading https://data.vision.ee.ethz.ch/cvl/food-101.tar.gz to /data/food-101.tar.gz\n"
          ]
        },
        {
          "output_type": "stream",
          "name": "stderr",
          "text": [
            " 93%|█████████▎| 4.63G/5.00G [05:13<00:29, 12.4MB/s]"
          ]
        }
      ],
      "source": [
        "# Downloading Food101 dataset\n",
        "import pathlib\n",
        "\n",
        "data_dir = pathlib.Path('/data')\n",
        "image_path = data_dir / 'pizza_steak_sushi'\n",
        "\n",
        "train_data = datasets.Food101(root=data_dir,\n",
        "                              split=\"train\",\n",
        "                              # transform=transforms.ToTensor(),\n",
        "                              download=True)\n",
        "\n",
        "# Get testing data\n",
        "test_data = datasets.Food101(root=data_dir,\n",
        "                             split=\"test\",\n",
        "                             # transform=transforms.ToTensor(),\n",
        "                             download=True)\n",
        "\n",
        "# It's a 5GB storage dataset so will take some time"
      ]
    },
    {
      "cell_type": "code",
      "execution_count": null,
      "metadata": {
        "id": "qX9qMxTLH5_c"
      },
      "outputs": [],
      "source": [
        "class_names = train_data.classes\n",
        "print('first 10 class names:')\n",
        "print(class_names[:10])\n",
        "\n",
        "# View first sample (PIL Image format)\n",
        "print(class_names[train_data[0][1]])\n",
        "train_data[0][0]"
      ]
    },
    {
      "cell_type": "markdown",
      "source": [
        "### In following cell I will be transforming the food-101 data like this:\n",
        "\n",
        "/data/pizza_steak_sushi_10_percent/\n",
        "  - pizza/\n",
        "    - image1.jpg\n",
        "    - image2.jpg\n",
        "  - steak/\n",
        "    - image3.jpg\n",
        "  - sushi/\n",
        "    - image4.jpg\n"
      ],
      "metadata": {
        "id": "meisWpAnJ1uF"
      }
    },
    {
      "cell_type": "code",
      "execution_count": null,
      "metadata": {
        "id": "JSkEN0jrH8Dg"
      },
      "outputs": [],
      "source": [
        "# Trnsforming the dataset in desired format\n",
        "# The following cell is for practise\n",
        "\n",
        "# First we will train model on 3 classes pizza, steak, sushi\n",
        "\n",
        "import random\n",
        "data_path = data_dir / \"food-101\" / \"images\"\n",
        "target_classes = ['pizza', 'steak', 'sushi']\n",
        "amount_to_get = .1\n",
        "\n",
        "# Now 10% of the food101 data for target data(10% data causes we want to start small) see line 29 for this\n",
        "# A function to sepatrate ramdom amount of data\n",
        "\n",
        "def get_subset(image_path=data_path,\n",
        "               data_splits=[\"train\", \"test\"],\n",
        "               target_classes=[\"pizza\", \"steak\", \"sushi\"],\n",
        "               amount=0.1,\n",
        "               seed=42):\n",
        "    random.seed(42)\n",
        "    label_splits = {}\n",
        "\n",
        "    # Get labels\n",
        "    for data_split in data_splits:\n",
        "        print(f\"[INFO] Creating image split for: {data_split}...\")\n",
        "        label_path = data_dir / \"food-101\" / \"meta\" / f\"{data_split}.txt\"\n",
        "        # In the data_path / \"food-101\" / \"meta\" / train.txt are image files names written like this:\n",
        "        # apple_pie/100791.jpg\n",
        "        # apple_pie/101003.jpg,,,,, the first part representt the label name so\n",
        "        with open(label_path, \"r\") as f:\n",
        "            labels = [line.strip(\"\\n\") for line in f.readlines() if line.split(\"/\")[0] in target_classes]\n",
        "        # ^^^ This line only keep those that are present the target classes\n",
        "        # The strip would make Hello/nworld -> Helloworld or concate all label as a list\n",
        "\n",
        "        number_to_sample = round(amount * len(labels))\n",
        "        print(f\"[INFO] Getting random subset of {number_to_sample} images for {data_split}...\")\n",
        "        sampled_images = random.sample(labels, k=number_to_sample)# takes no. of samples from labels list\n",
        "\n",
        "        # Apply full paths\n",
        "        image_paths = [pathlib.Path(str(image_path / sample_image) + \".jpg\") for sample_image in sampled_images]\n",
        "        label_splits[data_split] = image_paths\n",
        "        # ^^^ in his label_splits the images are stored with corresponding train or test label\n",
        "\n",
        "    return label_splits\n",
        "\n",
        "label_splits = get_subset(amount=amount_to_get)\n",
        "label_splits[\"train\"][:10]"
      ]
    },
    {
      "cell_type": "code",
      "execution_count": null,
      "metadata": {
        "id": "2k8bllGjMqdD"
      },
      "outputs": [],
      "source": [
        "# Create desired directory\n",
        "import pathlib\n",
        "\n",
        "amount = .1\n",
        "target_dir_name = f\"../data/pizza_steak_sushi_{str(int(amount*100))}_percent\"\n",
        "print(\"Creating directory\"+target_dir_name)\n",
        "\n",
        "# Okay I was having prb with os so I switched to path lib here\n",
        "# Setting up dir\n",
        "# target_dir = os.path.join(target_dir_name)\n",
        "target_dir = pathlib.Path(target_dir_name)\n",
        "\n",
        "# Making dir\n",
        "# os.makedirs(target_dir_name, exist_ok=True)\n",
        "target_dir.mkdir(parents=True, exist_ok=True)"
      ]
    },
    {
      "cell_type": "code",
      "source": [
        "# image_path.parent: This retrieves the parent directory of the image file. For\n",
        "# example, if image_path is \"food-101/pizza/apple_pie/12345.jpg\", then image_path.parent would be \"food-101/pizza/apple_pie\".\n",
        "# .stem: This attribute of the Path object extracts the filename without the extension.\n",
        "# So, in this example, image_path.parent.stem would be \"apple_pie\".\n",
        "# To summurize, .stem gets the file name without extension .name gets the file with extenstion\n",
        "\n",
        "import shutil # shutil is used dir or file manupulation\n",
        "\n",
        "for image_split in label_splits.keys():\n",
        "    for image_path in label_splits[str(image_split)]:\n",
        "        dest_dir = target_dir / image_split / image_path.parent.stem / image_path.name\n",
        "        # Making sure .parent exists\n",
        "        if not dest_dir.parent.is_dir():\n",
        "            dest_dir.parent.mkdir(parents=True, exist_ok=True)\n",
        "        print(f\"[INFO] Copying {image_path} to {dest_dir}...\")\n",
        "        shutil.copy2(image_path, dest_dir)"
      ],
      "metadata": {
        "collapsed": true,
        "id": "r5WiKMLo0Qi_"
      },
      "execution_count": null,
      "outputs": []
    },
    {
      "cell_type": "code",
      "source": [
        "# Checking lengths of dirs(walk_through_dir)\n",
        "\n",
        "\n",
        "# A helper function to run through dir and see it's contents\n",
        "# os.walk() is used for such purpose:\n",
        "# It generates a 3-tuple for each directory:\n",
        "\n",
        "# Root Directory: The current directory path.\n",
        "# Directories: A list of subdirectories within the current directory.\n",
        "# Files: A list of files within the current directory.\n",
        "\n",
        "def walk_through_dir(dir_path):\n",
        "  \"\"\"\n",
        "  Walks through dir_path returning its contents.\n",
        "  Args:\n",
        "    dir_path (str): target directory\n",
        "\n",
        "  Returns:\n",
        "    A print out of:\n",
        "      number of subdiretories in dir_path\n",
        "      number of images (files) in each subdirectory\n",
        "      name of each subdirectory\n",
        "  \"\"\"\n",
        "  import os\n",
        "  for dirpath, dirnames, filenames in os.walk(dir_path):\n",
        "    print(f\"There are {len(dirnames)} directories and {len(filenames)} images in '{dirpath}'.\")\n",
        "\n",
        "walk_through_dir(target_dir)"
      ],
      "metadata": {
        "id": "-U2fy-t_2JbH"
      },
      "execution_count": null,
      "outputs": []
    },
    {
      "cell_type": "markdown",
      "source": [
        "# Zip images folder to be easily transported"
      ],
      "metadata": {
        "id": "SZdQsnDwA1fY"
      }
    },
    {
      "cell_type": "code",
      "source": [
        "zip_file_name = data_dir / f\"pizza_steak_sushi_{str(int(amount_to_get*100))}_percent\"\n",
        "shutil.make_archive(zip_file_name,\n",
        "                    format=\"zip\",\n",
        "                    root_dir=target_dir)"
      ],
      "metadata": {
        "id": "O4G4xEFRBLRX"
      },
      "execution_count": null,
      "outputs": []
    },
    {
      "cell_type": "markdown",
      "source": [
        "##I kind of got confused with the root dir thing so what it does is:\n",
        "this is how target_dir looks:\n",
        "\n",
        "/data/pizza_steak_sushi_10_percent/\n",
        "  - pizza/\n",
        "    - image1.jpg\n",
        "    - image2.jpg\n",
        "  - steak/\n",
        "    - image3.jpg\n",
        "  - sushi/\n",
        "    - image4.jpg\n",
        "\n",
        "this how it will look like:\n",
        "pizza_steak_sushi_10_percent.zip\n",
        "  - pizza/\n",
        "    - image1.jpg\n",
        "    - image2.jpg\n",
        "  - steak/\n",
        "    - image3.jpg\n",
        "  - sushi/\n",
        "    - image4.jpg\n",
        "\n",
        "so root_dir tells the path or target and zip makes the whole dir zipped\n"
      ],
      "metadata": {
        "id": "zsk4FevrFvmq"
      }
    },
    {
      "cell_type": "code",
      "source": [
        "!ls -la ../data/"
      ],
      "metadata": {
        "id": "E4xqxmuMBXA4"
      },
      "execution_count": null,
      "outputs": []
    },
    {
      "cell_type": "code",
      "source": [
        "import os\n",
        "\n",
        "# Check if the directory exists\n",
        "if not os.path.exists(\"pizza_steak_sushi\"):\n",
        "  # Create the directory if it doesn't exist\n",
        "  !mkdir -p pizza_steak_sushi # -p means to create any necessary parents dir that don't exists\n",
        "else:\n",
        "  print(\"Directory 'pizza_steak_sushi' already exists. Skipping creation.\")\n",
        "\n",
        "# Unzip the archive\n",
        "!unzip -o ../data/pizza_steak_sushi_10_percent.zip -d pizza_steak_sushi\n",
        "# -o tells unzip to overwrite the files(so it would ask for replace in the terminal)\n",
        "# -d stads for destination(a shell command)"
      ],
      "metadata": {
        "id": "1eMMqrF2BXU4"
      },
      "execution_count": null,
      "outputs": []
    },
    {
      "cell_type": "code",
      "source": [
        "walk_through_dir(\"pizza_steak_sushi\")"
      ],
      "metadata": {
        "id": "GFmEMNpSBXae"
      },
      "execution_count": null,
      "outputs": []
    },
    {
      "cell_type": "markdown",
      "source": [
        "# How to remove this dirs"
      ],
      "metadata": {
        "id": "Osgz2lgVBWdo"
      }
    },
    {
      "cell_type": "code",
      "source": [
        "# # Remove extra data\n",
        "# import os\n",
        "# os.remove(\"pizza_steak_sushi\") < rm the file if \"pizza_steak_sushi\" is a dir then raise error\n",
        "# shutil.rmtree(\"pizza_steak_sushi\") < recursively rmv dir and it's subdir\n",
        "\n",
        "# I need these files of course so I commented these out"
      ],
      "metadata": {
        "id": "NAVwi55mISfY"
      },
      "execution_count": null,
      "outputs": []
    },
    {
      "cell_type": "markdown",
      "source": [
        "# The following is not needed as I created the zip myself"
      ],
      "metadata": {
        "id": "0CZfHsNJIvi-"
      }
    },
    {
      "cell_type": "code",
      "execution_count": null,
      "metadata": {
        "id": "HQF48YIUsfAU"
      },
      "outputs": [],
      "source": [
        "# if os.path.isdir(data_path):\n",
        "#   print(f\"{image_path} directory exists.\")\n",
        "# else:\n",
        "#   print(f\"Did not find {image_path} directory, creating one...\")\n",
        "#   os.makedirs(image_path, exist_ok=True)\n",
        "#   with open(os.path.join(data_path / \"pizza_steak_sushi.zip\"), \"wb\") as f:\n",
        "#     requests.get(\"https://github.com/mrdbourke/pytorch-deep-learning/raw/main/data/pizza_steak_sushi.zip\")\n",
        "#     print(\"Downloading pizza, steak, sushi data...\")\n",
        "#     f.write(requests.content)\n",
        "\n",
        "#   with zipfile.ZipFile(data_path/\"pizza_steak_sushi.zip\", 'r') as zip_ref:\n",
        "#     print(\"Unzipping pizza, steak, sushi data...\")\n",
        "#     zip_ref.extractall(image_path)"
      ]
    },
    {
      "cell_type": "code",
      "execution_count": null,
      "metadata": {
        "id": "y1xX6gP89mbU"
      },
      "outputs": [],
      "source": [
        "# Train and test dir paths\n",
        "\n",
        "# From cell 12 output we can see form the 3rd line there are about 75 images for per pizze,steak and sushi\n",
        "# and 19,31,25 images for tests(Starting small than gradually increasing the no. as needed)\n",
        "\n",
        "train_dir = image_path / \"train\"\n",
        "test_dir = image_path / \"test\"\n",
        "\n",
        "train_dir, test_dir"
      ]
    },
    {
      "cell_type": "code",
      "source": [],
      "metadata": {
        "id": "uYHVHkyhOfHn"
      },
      "execution_count": null,
      "outputs": []
    }
  ],
  "metadata": {
    "colab": {
      "provenance": []
    },
    "kernelspec": {
      "display_name": "Python 3",
      "name": "python3"
    },
    "language_info": {
      "name": "python"
    }
  },
  "nbformat": 4,
  "nbformat_minor": 0
}